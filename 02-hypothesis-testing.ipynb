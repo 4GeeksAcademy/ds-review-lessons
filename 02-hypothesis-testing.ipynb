{
 "cells": [
  {
   "cell_type": "markdown",
   "metadata": {},
   "source": [
    "# Hypothesis Testing\n",
    "<span style=\"font-size: 12px;\">By: Marisol Hernandez</span>"
   ]
  },
  {
   "cell_type": "code",
   "execution_count": 60,
   "metadata": {},
   "outputs": [],
   "source": [
    "import pandas as pd\n",
    "import matplotlib.pyplot as plt\n",
    "import numpy as np\n",
    "from scipy.stats import ttest_ind"
   ]
  },
  {
   "cell_type": "markdown",
   "metadata": {},
   "source": [
    "## 1. Introduction to Hypothesis Testing\n",
    "Hypothesis testing is a fundamental statistical method used to make inferences about population parameters based on sample data. It allows us to assess whether any observed differences or effects in data are statistically significant or simply due to chance.\n",
    "\n",
    "### 1.1 Basic Framework\n",
    "Hypothesis tests typically include four parts,\n",
    "\n",
    "#### **1.1.1. Define the hypothesis**\n",
    "\n",
    "- **Null Hypothesis** ($H_0$): The null hypothesis is a statement that there is no significant difference, effect, or relationship in the population.\n",
    "\n",
    "- **Alternative Hypothesis** ($H_1$ or $H_a$): The alternative hypothesis is the statement we are testing. It suggests that there is a significant difference, effect, or relationship in the population.\n",
    "\n",
    "As an example, suppose we have the following data for heights from a sample of 4 adults from Chicago, and 4 adults from Atlanta.\n"
   ]
  },
  {
   "cell_type": "code",
   "execution_count": 61,
   "metadata": {},
   "outputs": [
    {
     "data": {
      "text/html": [
       "<div>\n",
       "<style scoped>\n",
       "    .dataframe tbody tr th:only-of-type {\n",
       "        vertical-align: middle;\n",
       "    }\n",
       "\n",
       "    .dataframe tbody tr th {\n",
       "        vertical-align: top;\n",
       "    }\n",
       "\n",
       "    .dataframe thead th {\n",
       "        text-align: right;\n",
       "    }\n",
       "</style>\n",
       "<table border=\"1\" class=\"dataframe\">\n",
       "  <thead>\n",
       "    <tr style=\"text-align: right;\">\n",
       "      <th></th>\n",
       "      <th>Chicago Heights</th>\n",
       "      <th>Atlanta Heights</th>\n",
       "    </tr>\n",
       "  </thead>\n",
       "  <tbody>\n",
       "    <tr>\n",
       "      <th>0</th>\n",
       "      <td>183.068703</td>\n",
       "      <td>167.510258</td>\n",
       "    </tr>\n",
       "    <tr>\n",
       "      <th>1</th>\n",
       "      <td>186.706444</td>\n",
       "      <td>177.812411</td>\n",
       "    </tr>\n",
       "    <tr>\n",
       "      <th>2</th>\n",
       "      <td>173.266574</td>\n",
       "      <td>187.132988</td>\n",
       "    </tr>\n",
       "    <tr>\n",
       "      <th>3</th>\n",
       "      <td>179.032529</td>\n",
       "      <td>175.298712</td>\n",
       "    </tr>\n",
       "  </tbody>\n",
       "</table>\n",
       "</div>"
      ],
      "text/plain": [
       "   Chicago Heights  Atlanta Heights\n",
       "0       183.068703       167.510258\n",
       "1       186.706444       177.812411\n",
       "2       173.266574       187.132988\n",
       "3       179.032529       175.298712"
      ]
     },
     "execution_count": 61,
     "metadata": {},
     "output_type": "execute_result"
    }
   ],
   "source": [
    "city1_heights = [183.0687026 , 186.70644354, 173.26657415, 179.03252868]\n",
    "\n",
    "\n",
    "city2_heights = [167.5102584 , 177.81241131, 187.13298753, 175.29871173]\n",
    "\n",
    "df = pd.DataFrame({'Chicago Heights': city1_heights,\n",
    "                   'Atlanta Heights': city2_heights})\n",
    "\n",
    "df"
   ]
  },
  {
   "cell_type": "markdown",
   "metadata": {},
   "source": [
    "Lets start by looking at some basic statistics."
   ]
  },
  {
   "cell_type": "code",
   "execution_count": 62,
   "metadata": {},
   "outputs": [
    {
     "data": {
      "text/html": [
       "<div>\n",
       "<style scoped>\n",
       "    .dataframe tbody tr th:only-of-type {\n",
       "        vertical-align: middle;\n",
       "    }\n",
       "\n",
       "    .dataframe tbody tr th {\n",
       "        vertical-align: top;\n",
       "    }\n",
       "\n",
       "    .dataframe thead th {\n",
       "        text-align: right;\n",
       "    }\n",
       "</style>\n",
       "<table border=\"1\" class=\"dataframe\">\n",
       "  <thead>\n",
       "    <tr style=\"text-align: right;\">\n",
       "      <th></th>\n",
       "      <th>Chicago Heights</th>\n",
       "      <th>Atlanta Heights</th>\n",
       "    </tr>\n",
       "  </thead>\n",
       "  <tbody>\n",
       "    <tr>\n",
       "      <th>count</th>\n",
       "      <td>4.000000</td>\n",
       "      <td>4.000000</td>\n",
       "    </tr>\n",
       "    <tr>\n",
       "      <th>mean</th>\n",
       "      <td>180.518562</td>\n",
       "      <td>176.938592</td>\n",
       "    </tr>\n",
       "    <tr>\n",
       "      <th>std</th>\n",
       "      <td>5.761733</td>\n",
       "      <td>8.088509</td>\n",
       "    </tr>\n",
       "    <tr>\n",
       "      <th>min</th>\n",
       "      <td>173.266574</td>\n",
       "      <td>167.510258</td>\n",
       "    </tr>\n",
       "    <tr>\n",
       "      <th>25%</th>\n",
       "      <td>177.591040</td>\n",
       "      <td>173.351598</td>\n",
       "    </tr>\n",
       "    <tr>\n",
       "      <th>50%</th>\n",
       "      <td>181.050616</td>\n",
       "      <td>176.555562</td>\n",
       "    </tr>\n",
       "    <tr>\n",
       "      <th>75%</th>\n",
       "      <td>183.978138</td>\n",
       "      <td>180.142555</td>\n",
       "    </tr>\n",
       "    <tr>\n",
       "      <th>max</th>\n",
       "      <td>186.706444</td>\n",
       "      <td>187.132988</td>\n",
       "    </tr>\n",
       "  </tbody>\n",
       "</table>\n",
       "</div>"
      ],
      "text/plain": [
       "       Chicago Heights  Atlanta Heights\n",
       "count         4.000000         4.000000\n",
       "mean        180.518562       176.938592\n",
       "std           5.761733         8.088509\n",
       "min         173.266574       167.510258\n",
       "25%         177.591040       173.351598\n",
       "50%         181.050616       176.555562\n",
       "75%         183.978138       180.142555\n",
       "max         186.706444       187.132988"
      ]
     },
     "execution_count": 62,
     "metadata": {},
     "output_type": "execute_result"
    }
   ],
   "source": [
    "df.describe()"
   ]
  },
  {
   "cell_type": "markdown",
   "metadata": {},
   "source": [
    "Which city has taller people? Well we can look at the means, but is this difference **significant**? \n",
    "\n",
    "It looks like Chicago has taller adults on average, but only by about 3cm. Is that enough to be sure? What if we just happened to sample shorter people when measuring Atlanta adults by accident?"
   ]
  },
  {
   "cell_type": "code",
   "execution_count": 63,
   "metadata": {},
   "outputs": [
    {
     "data": {
      "text/plain": [
       "Chicago Heights    180.518562\n",
       "Atlanta Heights    176.938592\n",
       "dtype: float64"
      ]
     },
     "execution_count": 63,
     "metadata": {},
     "output_type": "execute_result"
    }
   ],
   "source": [
    "df.mean()"
   ]
  },
  {
   "cell_type": "markdown",
   "metadata": {},
   "source": [
    "It's hard to note if this difference in heights is due to random chance in our experiment, or if it is truly reflective of the heights of adults in these two cities. What we can do answer this is build a two-sample hypothesis test.\n",
    "\n",
    "The first part of any significance test is to define our **null hypothesis**, $H_0$. This is typically a statement that there are no differences between two groups of data. We usually want to try to prove the null hypothesis wrong with our test.\n",
    "\n",
    "$$H_0: \\text{There is no difference in the mean height of adults from Chicago and Atlanta}$$\n",
    "$$\\mu_1 = \\mu_2~~~~~~~~~~~~~~~~~~~~~~~~~~~~~~~~~~~~~~~~~~~~~~~~~~~~~~~~~~~~~~~~~~~~~~~~~~~~~~~~~~~~~~~~~~~~~~~~~~~~~~~~~~~~~$$\n",
    "\n",
    "where:\n",
    "\n",
    "- $\\mu_1$ is the mean height of adults from Chicago\n",
    "\n",
    "- $\\mu_2$ is the mean height of adults from Atlanta\n",
    "\n",
    "We also define our **alternative hypothesis**, $H_1$. This is usually the research question we wish to prove true, it contrasts to the null hypothesis.\n",
    "\n",
    "$$H_1: \\text{The mean height of adults from Chicago is greater than those from Atlanta}$$\n",
    "$$\\mu_1 > \\mu_2~~~~~~~~~~~~~~~~~~~~~~~~~~~~~~~~~~~~~~~~~~~~~~~~~~~~~~~~~~~~~~~~~~~~~~~~~~~~~~~~~~~~~~~~~~~~~~~~~~~~~~~~~~~$$"
   ]
  },
  {
   "cell_type": "markdown",
   "metadata": {},
   "source": [
    "#### **1.1.2. Set the significance level**\n",
    "\n",
    "We will want to generate something called a p-value (more on this later) and compare it to a significance level, $\\alpha$. The significance level is the threshold used to determine whether to reject the null hypothesis. It is common to use $\\alpha = 0.05$ of $5\\%$."
   ]
  },
  {
   "cell_type": "markdown",
   "metadata": {},
   "source": [
    "#### **1.1.3. Run a Hypothesis Test**\n",
    "We will actually try to use the data to simulate what our experiment could look like if $H_0$ were true. We will do this simulation manually, but in practice you can use an already existing function or test.\n",
    "\n",
    "We can create a statistic for our test as we are doing this significance test manually at the moment, this will be the difference in the means."
   ]
  },
  {
   "cell_type": "code",
   "execution_count": 64,
   "metadata": {},
   "outputs": [
    {
     "data": {
      "text/plain": [
       "3.579970000000003"
      ]
     },
     "execution_count": 64,
     "metadata": {},
     "output_type": "execute_result"
    }
   ],
   "source": [
    "observed_mean_diff = df['Chicago Heights'].mean() - df['Atlanta Heights'].mean()\n",
    "observed_mean_diff"
   ]
  },
  {
   "cell_type": "markdown",
   "metadata": {},
   "source": [
    "We can plot our two samples."
   ]
  },
  {
   "cell_type": "code",
   "execution_count": 65,
   "metadata": {},
   "outputs": [
    {
     "data": {
      "image/png": "[encoded data removed]",
      "text/plain": [
       "<Figure size 800x300 with 2 Axes>"
      ]
     },
     "metadata": {},
     "output_type": "display_data"
    }
   ],
   "source": [
    "# Create subplots\n",
    "fig, axs = plt.subplots(1, 2, figsize=(8, 3))\n",
    "\n",
    "# Plot histogram for Chicago\n",
    "axs[0].hist(city1_heights, bins=10, color='blue', alpha=0.7)\n",
    "axs[0].set_title('Chicago Heights')\n",
    "axs[0].set_xlabel('Height')\n",
    "axs[0].set_ylabel('Frequency')\n",
    "\n",
    "# Plot histogram for Atlanta\n",
    "axs[1].hist(city2_heights, bins=10, color='green', alpha=0.7)\n",
    "axs[1].set_title('Atlanta Heights')\n",
    "axs[1].set_xlabel('Height')\n",
    "axs[1].set_ylabel('Frequency')\n",
    "\n",
    "# Show plot\n",
    "plt.tight_layout()\n",
    "plt.show()"
   ]
  },
  {
   "cell_type": "markdown",
   "metadata": {},
   "source": [
    "Because we are manually building a statistical significance test, we will **simulate** the **null hypothesis**. Recall,\n",
    "\n",
    "$$H_0: \\text{There is no difference in the mean height of adults from Chicago and Atlanta}$$\n",
    "$$\\mu_1 = \\mu_2~~~~~~~~~~~~~~~~~~~~~~~~~~~~~~~~~~~~~~~~~~~~~~~~~~~~~~~~~~~~~~~~~~~~~~~~~~~~~~~~~~~~~~~~~~~~~~~~~~~~~~~~~~~~~$$\n",
    "\n",
    "where:\n",
    "\n",
    "- $\\mu_1$ is the mean height of adults from Chicago\n",
    "\n",
    "- $\\mu_2$ is the mean height of adults from Atlanta\n",
    "\n",
    "If $H_0$ were true, then there is no difference between Chicago and Atlanta data, that means we could pool together the data and treat Chicago data and Atlanta data the same."
   ]
  },
  {
   "cell_type": "code",
   "execution_count": 66,
   "metadata": {},
   "outputs": [
    {
     "data": {
      "text/plain": [
       "array([183.0687026 , 186.70644354, 173.26657415, 179.03252868,\n",
       "       167.5102584 , 177.81241131, 187.13298753, 175.29871173])"
      ]
     },
     "execution_count": 66,
     "metadata": {},
     "output_type": "execute_result"
    }
   ],
   "source": [
    "X1 = df['Chicago Heights']\n",
    "X2 = df['Atlanta Heights']\n",
    "\n",
    "data_assuming_null = np.concatenate([X1, X2])\n",
    "data_assuming_null"
   ]
  },
  {
   "cell_type": "markdown",
   "metadata": {},
   "source": [
    "Now we can test if the difference in heights we saw earlier was due to random chance in selecting our adults, or if it may have been caused by a true difference in heights between the two cities.\n",
    "\n",
    "By assuming $H_0$ to be true, we pool the data together. Then, we will re-sample 4 new \"Chicagoans\" from our pooled-together (null) sample. But these \"Chicagoans\" may be from either Chicago or Atlanta. Because we are assuming the null hypothesis is true, then there should be no difference in heights between a Chicagoan and an Atlantan.\n",
    "\n",
    "We'll do the same for Atlanta, and re-sample 4 new \"Atlantans\" from our pooled-together (null) sample.\n",
    "\n",
    "We'll then measure the difference in the means between the 4 new \"Chicagoans\" and 4 new \"Atlantans\""
   ]
  },
  {
   "cell_type": "code",
   "execution_count": 67,
   "metadata": {},
   "outputs": [],
   "source": [
    "def resample_data(X):\n",
    "    simulated_X1 = np.random.choice(data_assuming_null, size=len(df))\n",
    "    simulated_X2 = np.random.choice(data_assuming_null, size=len(df))\n",
    "    return simulated_X1, simulated_X2\n",
    "\n",
    "def test_statistic(x1, x2):\n",
    "    return x1.mean() - x2.mean()"
   ]
  },
  {
   "cell_type": "code",
   "execution_count": 68,
   "metadata": {},
   "outputs": [
    {
     "name": "stdout",
     "output_type": "stream",
     "text": [
      "Heights of simulated 'Chicagoans': [173.26657415 173.26657415 186.70644354 186.70644354]\n",
      "\n",
      "Heights of simulated 'Atlantans': [186.70644354 175.29871173 187.13298753 177.81241131]\n"
     ]
    }
   ],
   "source": [
    "# We mix together Chicago and Atlanta data, and then randomly pull 4 people and label them as\n",
    "# Chicagoans, and randomly pull 4 other people and label them as Atlantans\n",
    "simulated_chicago_data, simulated_atlanta_data = resample_data(data_assuming_null)\n",
    "print(f\"Heights of simulated 'Chicagoans': {simulated_chicago_data}\") # Our re-sampled list of \"Chicagoans\" \n",
    "print()\n",
    "print(f\"Heights of simulated 'Atlantans': {simulated_atlanta_data}\") # Our re-sampled list of \"Atlantans\" "
   ]
  },
  {
   "cell_type": "code",
   "execution_count": 69,
   "metadata": {},
   "outputs": [
    {
     "data": {
      "text/plain": [
       "-1.7511296825000215"
      ]
     },
     "execution_count": 69,
     "metadata": {},
     "output_type": "execute_result"
    }
   ],
   "source": [
    "# Find the difference in means of the two new groups\n",
    "simulated_mean_difference = test_statistic(simulated_chicago_data, simulated_atlanta_data)\n",
    "simulated_mean_difference"
   ]
  },
  {
   "cell_type": "markdown",
   "metadata": {},
   "source": [
    "Compare this to our observed difference of means"
   ]
  },
  {
   "cell_type": "code",
   "execution_count": 70,
   "metadata": {},
   "outputs": [
    {
     "data": {
      "text/plain": [
       "3.579970000000003"
      ]
     },
     "execution_count": 70,
     "metadata": {},
     "output_type": "execute_result"
    }
   ],
   "source": [
    "observed_mean_diff"
   ]
  },
  {
   "cell_type": "markdown",
   "metadata": {},
   "source": [
    "This allows us to re-perform our experiment, but under the assumption that there shouldn't be a difference between Chicagoans and Atlatans in their heights.\n",
    "\n",
    "This let's us focus on the following question: \"Assuming there is no difference in height between the cities, how would random chance in selecting four participants impact our measurements.\""
   ]
  },
  {
   "cell_type": "code",
   "execution_count": 71,
   "metadata": {},
   "outputs": [],
   "source": [
    "list_sim_mean_diff = []\n",
    "\n",
    "n = 0"
   ]
  },
  {
   "cell_type": "code",
   "execution_count": 72,
   "metadata": {},
   "outputs": [
    {
     "name": "stdout",
     "output_type": "stream",
     "text": [
      "List of simulated mean differences: [4.70026509249999]\n"
     ]
    },
    {
     "data": {
      "image/png": "[encoded data removed]",
      "text/plain": [
       "<Figure size 640x480 with 1 Axes>"
      ]
     },
     "metadata": {},
     "output_type": "display_data"
    }
   ],
   "source": [
    "simulated_chicago_data, simulated_atlanta_data = resample_data(data_assuming_null)\n",
    "\n",
    "simulated_mean_difference = test_statistic(simulated_chicago_data, simulated_atlanta_data)\n",
    "\n",
    "list_sim_mean_diff.append(simulated_mean_difference)\n",
    "\n",
    "print(f\"List of simulated mean differences: {list_sim_mean_diff}\")\n",
    "\n",
    "n += 1\n",
    "\n",
    "plt.hist(list_sim_mean_diff)\n",
    "plt.title(f'After {n} Null Hypothesis Simulations')\n",
    "plt.xlabel('Difference of Simulated Means')\n",
    "plt.ylabel('Count')\n",
    "plt.show()"
   ]
  },
  {
   "cell_type": "markdown",
   "metadata": {},
   "source": [
    "Lets do even more simulations."
   ]
  },
  {
   "cell_type": "code",
   "execution_count": 95,
   "metadata": {},
   "outputs": [],
   "source": [
    "list_sim_mean_diff = []\n",
    "\n",
    "n = 0"
   ]
  },
  {
   "cell_type": "code",
   "execution_count": 96,
   "metadata": {},
   "outputs": [
    {
     "data": {
      "image/png": "[encoded data removed]",
      "text/plain": [
       "<Figure size 640x480 with 1 Axes>"
      ]
     },
     "metadata": {},
     "output_type": "display_data"
    }
   ],
   "source": [
    "for _ in range(5000):\n",
    "    \n",
    "    simulated_chicago_data, simulated_atlanta_data = resample_data(data_assuming_null)\n",
    "\n",
    "    simulated_mean_difference = test_statistic(simulated_chicago_data, simulated_atlanta_data)\n",
    "\n",
    "    list_sim_mean_diff.append(simulated_mean_difference)\n",
    "    \n",
    "    n += 1\n",
    "    \n",
    "plt.hist(list_sim_mean_diff, bins=50, histtype='step')\n",
    "plt.title(f'After {n} Null Hypothesis Simulations')\n",
    "plt.xlabel('Difference of Simulated Means')\n",
    "plt.ylabel('Count')\n",
    "plt.show()"
   ]
  },
  {
   "cell_type": "code",
   "execution_count": 97,
   "metadata": {},
   "outputs": [
    {
     "data": {
      "image/png": "[encoded data removed]",
      "text/plain": [
       "<Figure size 640x480 with 1 Axes>"
      ]
     },
     "metadata": {},
     "output_type": "display_data"
    }
   ],
   "source": [
    "plt.hist(list_sim_mean_diff, bins=50, histtype='step')\n",
    "plt.axvline(observed_mean_diff, c='k', label='Observed Diff. of Means')\n",
    "plt.title(f'After {n} Null Hypothesis Simulations')\n",
    "plt.xlabel('Difference of Simulated Means')\n",
    "plt.ylabel('Count')\n",
    "plt.show()"
   ]
  },
  {
   "cell_type": "code",
   "execution_count": 98,
   "metadata": {},
   "outputs": [
    {
     "name": "stdout",
     "output_type": "stream",
     "text": [
      "In our dataset, we observed a difference of the means of 3.5800\n",
      "\n",
      "Out of all 5000 simulated null samples, 1078 have mean differences greater than the true observed mean difference\n",
      "\n",
      "That's a fraction of 0.215600 or 21.560%\n",
      "\n",
      "This is also our simulated p-value, 0.215600\n"
     ]
    }
   ],
   "source": [
    "sim_mean_diff_less_obs = sum(list_sim_mean_diff > observed_mean_diff)\n",
    "\n",
    "p_value = sim_mean_diff_less_obs/len(list_sim_mean_diff)\n",
    "\n",
    "print(f\"In our dataset, we observed a difference of the means of {observed_mean_diff:.4f}\")\n",
    "print()\n",
    "\n",
    "print(f'Out of all {len(list_sim_mean_diff)} simulated null samples, {sim_mean_diff_less_obs} have mean differences greater than the true observed mean difference')\n",
    "print()\n",
    "print(f\"That's a fraction of {p_value:4f} or {p_value*100:.3f}%\")\n",
    "print()\n",
    "print(f\"This is also our simulated p-value, {p_value:4f}\")"
   ]
  },
  {
   "cell_type": "markdown",
   "metadata": {},
   "source": [
    "The **p-value** tell us, assuming our **null hypothesis** that both samples are actually the same were true, what the probability would be of getting the metric (difference in means) that we observed.\n",
    "\n",
    "This is a bootstrap approaching to estimating the p-value. It is non-parametric, meaning it doesn't assume any distribution for the data. It is data-driven because we use the data to generate simulated samples. In the later section, we will introduce some common signficance tests."
   ]
  },
  {
   "cell_type": "markdown",
   "metadata": {},
   "source": [
    "#### **1.1.4. Make a Decision**\n",
    "If the p-value is low, then that means the null hypothesis should rarely give us our observed metric. So we can reject the null hypothesis.\n",
    "\n",
    "If the p-value is high, then that means the null hypothesis could often give us our observed metric. So we can't reject the null hypothesis, though it doesn't mean it is true - we just can't reject it.\n",
    "\n",
    "In general,  we compare this p-value to a given significance level, $\\alpha$, usually 0.05 (5%)\n",
    "\n",
    "$$\\text{If p-value } \\lt \\alpha \\text{ we reject } H_0$$\n",
    "\n",
    "$$\\text{If p-value } \\ge \\alpha \\text{ we can't reject } H_0$$\n",
    "\n",
    "Given a 0.05 significance level, do we reject our null hypothesis, or state there is evidence for the null hypothesis being true?\n"
   ]
  },
  {
   "cell_type": "code",
   "execution_count": 77,
   "metadata": {},
   "outputs": [
    {
     "data": {
      "text/plain": [
       "0.2136"
      ]
     },
     "execution_count": 77,
     "metadata": {},
     "output_type": "execute_result"
    }
   ],
   "source": [
    "p_value"
   ]
  },
  {
   "cell_type": "markdown",
   "metadata": {},
   "source": [
    "## 2. Common Significance Tests\n",
    "In practice, a signficance test is easier to implement than this. You don't have to do a non-parametric bootstrap, and in practice the above can have its limits.\n",
    "\n",
    "<p align=\"center\">\n",
    "  <img src=\"imgs/common_tests.png\" alt=\"Alt text\" width=\"950\" height=\"250\">\n",
    "</p>"
   ]
  },
  {
   "cell_type": "markdown",
   "metadata": {},
   "source": [
    "## 3. One-Tailed vs Two-Tailed\n",
    "In progress"
   ]
  },
  {
   "cell_type": "code",
   "execution_count": 80,
   "metadata": {},
   "outputs": [
    {
     "name": "stdout",
     "output_type": "stream",
     "text": [
      "t-statistic: 0.7209804085561639\n",
      "p-value: 0.2490194186825515\n"
     ]
    }
   ],
   "source": [
    "# # Perform independent two-sample t-test\n",
    "# t_stat, p_value = ttest_ind(city1_heights, city2_heights, alternative='greater')\n",
    "\n",
    "# # Print the results\n",
    "# print(\"t-statistic:\", t_stat)\n",
    "# print(\"p-value:\", p_value)"
   ]
  }
 ],
 "metadata": {
  "kernelspec": {
   "display_name": "Python 3",
   "language": "python",
   "name": "python3"
  },
  "language_info": {
   "codemirror_mode": {
    "name": "ipython",
    "version": 3
   },
   "file_extension": ".py",
   "mimetype": "text/x-python",
   "name": "python",
   "nbconvert_exporter": "python",
   "pygments_lexer": "ipython3",
   "version": "3.10.13"
  }
 },
 "nbformat": 4,
 "nbformat_minor": 2
}
