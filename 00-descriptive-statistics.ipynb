{
 "cells": [
  {
   "cell_type": "markdown",
   "metadata": {},
   "source": [
    "# Descriptive Statistics and Distributions\n",
    "<span style=\"font-size: 12px;\">By: Marisol Hernandez</span>\n"
   ]
  },
  {
   "cell_type": "code",
   "execution_count": 2,
   "metadata": {},
   "outputs": [],
   "source": [
    "import numpy as np\n",
    "import matplotlib.pyplot as plt"
   ]
  },
  {
   "cell_type": "markdown",
   "metadata": {},
   "source": [
    "## 1. Summation and Notation\n",
    "Many equations in statistics use the *summation* nation, so it is good for us to take a moment to understand how to read this nation.\n",
    "\n",
    "If we have a series of numbers such as $(1, 4, 5, \\dots)$, or written generally as $(x_1, x_2, x_3, \\dots, x_N)$ then we can use the *summation* notation as a *shorthand* when we wish to sum-up a sequence of these numbers.\n",
    "\n",
    "If we want to add a series of elements starting with element $i=1$ up to (and including) element $i=n$, then we can write this as\n",
    "\n",
    "$$\n",
    "\\sum\\limits_{i=1}^{n} x_i\n",
    "$$\n",
    "\n",
    "This is shorthand for \n",
    "\n",
    "$$\n",
    "x_1 + x_2 + x_3 + \\dots + x_n\n",
    "$$\n",
    "\n",
    "For an example, suppose we have a vector $\\bf{x}$,\n",
    "$$\n",
    "\\textbf{x} = \n",
    "\\begin{bmatrix}\n",
    "    x_1 \\\\\n",
    "    x_2 \\\\\n",
    "    x_3 \\\\\n",
    "    x_4 \\\\\n",
    "\\end{bmatrix}\n",
    "=\n",
    "\\begin{bmatrix}\n",
    "    1 \\\\\n",
    "    3 \\\\\n",
    "    1 \\\\\n",
    "    5 \\\\\n",
    "\\end{bmatrix}\n",
    "$$\n",
    "\n",
    "We can create this vector in the form of a numpy array,"
   ]
  },
  {
   "cell_type": "code",
   "execution_count": 3,
   "metadata": {},
   "outputs": [
    {
     "data": {
      "text/plain": [
       "array([1, 3, 1, 5])"
      ]
     },
     "execution_count": 3,
     "metadata": {},
     "output_type": "execute_result"
    }
   ],
   "source": [
    "# Let's start with our array x\n",
    "x = np.array([1, 3, 1, 5])\n",
    "x"
   ]
  },
  {
   "cell_type": "markdown",
   "metadata": {},
   "source": [
    "Then if we want to add up elements 1 and 2 we can write\n",
    "\\begin{align*}\n",
    "    \\sum\\limits_{i=1}^{2} x_i &= x_1 + x_2\\\\\n",
    "    &= 1 + 3\\\\\n",
    "    &= 4\n",
    "\\end{align*},"
   ]
  },
  {
   "cell_type": "code",
   "execution_count": 4,
   "metadata": {},
   "outputs": [
    {
     "data": {
      "text/plain": [
       "4"
      ]
     },
     "execution_count": 4,
     "metadata": {},
     "output_type": "execute_result"
    }
   ],
   "source": [
    "# Remember that in Python-land, element indices START WITH 0!\n",
    "np.sum(x[0:2]) # sums elements 0 up to 2 (EXCLUDING element 2), so it is the sum of elements 0 and 1, i.e. 1+3"
   ]
  },
  {
   "cell_type": "markdown",
   "metadata": {},
   "source": [
    "if we want to add up elements 2, 3, and 4 we can write\n",
    "\\begin{align*}\n",
    "    \\sum\\limits_{i=2}^{4} x_i &= x_2 + x_3 + x_4\\\\\n",
    "    &= 3 + 1 + 5\\\\\n",
    "    &= 9\n",
    "\\end{align*},\n"
   ]
  },
  {
   "cell_type": "code",
   "execution_count": 5,
   "metadata": {},
   "outputs": [
    {
     "data": {
      "text/plain": [
       "9"
      ]
     },
     "execution_count": 5,
     "metadata": {},
     "output_type": "execute_result"
    }
   ],
   "source": [
    "# Sum elements 1 up to the final element, so it is the sum of elements 1,2 and 3, i.e. 3+1+5 \n",
    "np.sum(x[1:])  # np.sum(x[1:5]) works too"
   ]
  },
  {
   "cell_type": "markdown",
   "metadata": {},
   "source": [
    "and if we want to add up all elements from 1 to 4 we can write\n",
    "\\begin{align*}\n",
    "    \\sum\\limits_{i=1}^{4} x_i &= x_1 + x_2 + x_3 + x_4\\\\\n",
    "    &= 1 + 3 + 1 + 5\\\\\n",
    "    &= 10\n",
    "\\end{align*}"
   ]
  },
  {
   "cell_type": "code",
   "execution_count": 6,
   "metadata": {},
   "outputs": [
    {
     "data": {
      "text/plain": [
       "10"
      ]
     },
     "execution_count": 6,
     "metadata": {},
     "output_type": "execute_result"
    }
   ],
   "source": [
    "# Sum all elements from 1 to 4\n",
    "np.sum(x[0:4])  # np.sum(x[0:]) also works"
   ]
  },
  {
   "cell_type": "code",
   "execution_count": 7,
   "metadata": {},
   "outputs": [
    {
     "data": {
      "text/plain": [
       "10"
      ]
     },
     "execution_count": 7,
     "metadata": {},
     "output_type": "execute_result"
    }
   ],
   "source": [
    "# Sum up all elements regardless of size\n",
    "np.sum(x) # can also use x.sum()"
   ]
  },
  {
   "cell_type": "markdown",
   "metadata": {},
   "source": [
    "\n",
    "\n",
    "And the value in the summation can be any function of x, so for example we can have\n",
    "\n",
    "$$\n",
    "\\sum\\limits_{i=1}^{N} x_i^2 = x_1^2 + x_2^2 + x_3^2 + ... + x_N^2\\\\\n",
    "$$\n",
    "\n",
    "which means we square each element and add the results together.\n",
    "\n",
    "More generally we can write\n",
    "\n",
    "$$\n",
    "\\sum\\limits_{i=1}^{N} f(x_i) = f(x_1) + f(x_2) + f(x_3) + ... + f(x_N)\\\\\n",
    "$$\n",
    "\n",
    "where $f$ is just some function (e.g. $\\text{exp}$, $\\text{sin}$, or some combination of functions). In the above example, we apply a function $f$ to each element $x_i$ and add the results together. "
   ]
  },
  {
   "cell_type": "markdown",
   "metadata": {},
   "source": [
    "We can square the example vector $\\bf{x}$,\n",
    "$$\n",
    "\\textbf{x}^2 = \n",
    "\\begin{bmatrix}\n",
    "    x_1^2 \\\\\n",
    "    x_2^2 \\\\\n",
    "    x_3^2 \\\\\n",
    "    x_4^2 \\\\\n",
    "\\end{bmatrix}\n",
    "=\n",
    "\\begin{bmatrix}\n",
    "    1^2 \\\\\n",
    "    3^2 \\\\\n",
    "    1^2 \\\\\n",
    "    5^2 \\\\\n",
    "\\end{bmatrix}\n",
    "=\n",
    "\\begin{bmatrix}\n",
    "    1 \\\\\n",
    "    9 \\\\\n",
    "    1 \\\\\n",
    "    25 \\\\\n",
    "\\end{bmatrix}\n",
    "$$"
   ]
  },
  {
   "cell_type": "code",
   "execution_count": 8,
   "metadata": {},
   "outputs": [
    {
     "data": {
      "text/plain": [
       "array([ 1,  9,  1, 25])"
      ]
     },
     "execution_count": 8,
     "metadata": {},
     "output_type": "execute_result"
    }
   ],
   "source": [
    "# Squaring our vector\n",
    "x**2"
   ]
  },
  {
   "cell_type": "markdown",
   "metadata": {},
   "source": [
    "Now to sum up the squares,\n",
    "$$\n",
    "\\sum\\limits_{i=1}^{4} x_i^2 = x_1^2 + x_2^2 + x_3^2 + x_4^2\n",
    "$$\n",
    "\n",
    "$$\n",
    "= 1^2 + 3^2 + 1^2 + 5^2\n",
    "$$\n",
    "\n",
    "$$\n",
    "= 1 + 9 + 1 + 25 \n",
    "$$\n",
    "\n",
    "$$\n",
    "= 36\n",
    "$$"
   ]
  },
  {
   "cell_type": "code",
   "execution_count": 9,
   "metadata": {},
   "outputs": [
    {
     "data": {
      "text/plain": [
       "36"
      ]
     },
     "execution_count": 9,
     "metadata": {},
     "output_type": "execute_result"
    }
   ],
   "source": [
    "# Sum of the squares\n",
    "np.sum(x**2)"
   ]
  },
  {
   "cell_type": "markdown",
   "metadata": {},
   "source": [
    "## 2. Introduction to Descriptive Statistics\n",
    "\n",
    "Descriptive statistics are used to summarize and describe the important characteristics of a dataset. They provide simple summaries about the sample and the measures. Descriptive statistics are used to describe the basic features of the data in a study.\n",
    "\n",
    "It is a way to reduce the information of a whole dataset into a smaller number of \"descriptive\" quantities. This allows us to quickly gain an understanding of data and its characterisitcis without having to look at each value individually.\n",
    "\n",
    "But, it's good to pair descriptive statistics with some sort of data visualization. We'll see some examples later on this."
   ]
  },
  {
   "cell_type": "markdown",
   "metadata": {},
   "source": [
    "## 3. Measures of Central Tendency\n",
    "\n",
    "### Mean\n",
    "\n",
    "The mean is the average of a set of numbers. It is calculated by adding up all the numbers and then dividing by the total number of numbers.\n",
    "\n",
    "Using summation notation, we can write this as\n",
    "\n",
    "\\begin{align*}\n",
    "    \\text{mean}(\\textbf{x}) &= \\frac{1}{N} \\sum\\limits_{i=1}^{N} x_i\\\\\n",
    "    &= \\frac{1}{N} (x_1 + x_2 + \\dots + x_N)\n",
    "\\end{align*},"
   ]
  },
  {
   "cell_type": "code",
   "execution_count": 10,
   "metadata": {},
   "outputs": [
    {
     "data": {
      "text/plain": [
       "array([1, 3, 1, 5])"
      ]
     },
     "execution_count": 10,
     "metadata": {},
     "output_type": "execute_result"
    }
   ],
   "source": [
    "# Remember our vector x\n",
    "x"
   ]
  },
  {
   "cell_type": "markdown",
   "metadata": {},
   "source": [
    "Note: `len(x)` gives you the length of object `x`. For our example, it gives us the length of our vector `x`, which represents the number of elements in our vector."
   ]
  },
  {
   "cell_type": "code",
   "execution_count": 11,
   "metadata": {},
   "outputs": [
    {
     "data": {
      "text/plain": [
       "2.5"
      ]
     },
     "execution_count": 11,
     "metadata": {},
     "output_type": "execute_result"
    }
   ],
   "source": [
    "# Finding the mean option 1\n",
    "x.sum()/len(x)"
   ]
  },
  {
   "cell_type": "code",
   "execution_count": 12,
   "metadata": {},
   "outputs": [
    {
     "name": "stdout",
     "output_type": "stream",
     "text": [
      "Number of elements in vector x: 4\n"
     ]
    }
   ],
   "source": [
    "N = len(x)\n",
    "print(f\"Number of elements in vector x: {N}\")"
   ]
  },
  {
   "cell_type": "code",
   "execution_count": 13,
   "metadata": {},
   "outputs": [
    {
     "data": {
      "text/plain": [
       "2.5"
      ]
     },
     "execution_count": 13,
     "metadata": {},
     "output_type": "execute_result"
    }
   ],
   "source": [
    "# Finding the mean option 2\n",
    "np.mean(x)"
   ]
  },
  {
   "cell_type": "markdown",
   "metadata": {},
   "source": [
    "**Note on Using `statistics` Package**\n",
    "\n",
    "There is also a `statistics` library included with Python that has basic statistical operations such as `mean`, `median`, etc.\n",
    "\n",
    "But **WARNING**, if you mix `numpy` arrays with `statistics` operations, you can get odd results.\n",
    "\n",
    "In the below example, our `numpy` array is composed of `int` datatypes, and so if we plug this `numpy` array into the `statistics.mean` the output will be also be an `int`, even though the true result has a decimal place."
   ]
  },
  {
   "cell_type": "code",
   "execution_count": 14,
   "metadata": {},
   "outputs": [
    {
     "data": {
      "text/plain": [
       "dtype('int64')"
      ]
     },
     "execution_count": 14,
     "metadata": {},
     "output_type": "execute_result"
    }
   ],
   "source": [
    "# Data type of our elements in vector x\n",
    "x.dtype"
   ]
  },
  {
   "cell_type": "code",
   "execution_count": 15,
   "metadata": {},
   "outputs": [
    {
     "data": {
      "text/plain": [
       "2"
      ]
     },
     "execution_count": 15,
     "metadata": {},
     "output_type": "execute_result"
    }
   ],
   "source": [
    "import statistics as stats\n",
    "stats.mean(x) #<--- erroneous result, returns an integer because the input array is of dtype integer"
   ]
  },
  {
   "cell_type": "markdown",
   "metadata": {},
   "source": [
    "If you want to use the `statistics` package with `numpy`, you will have to make the original array with `float` types..."
   ]
  },
  {
   "cell_type": "code",
   "execution_count": 16,
   "metadata": {},
   "outputs": [
    {
     "data": {
      "text/plain": [
       "2.5"
      ]
     },
     "execution_count": 16,
     "metadata": {},
     "output_type": "execute_result"
    }
   ],
   "source": [
    "x = np.array([1., 3., 1., 5.])\n",
    "stats.mean(x)"
   ]
  },
  {
   "cell_type": "markdown",
   "metadata": {},
   "source": [
    "Or, you can avoid mixing `numpy` with `statistics` and use python `lists`, which is what `statistics` is built for."
   ]
  },
  {
   "cell_type": "code",
   "execution_count": 17,
   "metadata": {},
   "outputs": [
    {
     "data": {
      "text/plain": [
       "2.5"
      ]
     },
     "execution_count": 17,
     "metadata": {},
     "output_type": "execute_result"
    }
   ],
   "source": [
    "x = [1, 3, 1, 5]\n",
    "stats.mean(x)"
   ]
  },
  {
   "cell_type": "markdown",
   "metadata": {},
   "source": [
    "Moving on..."
   ]
  },
  {
   "cell_type": "markdown",
   "metadata": {},
   "source": [
    "### Median\n",
    "The median is the middle value of a dataset when it is ordered from least to greatest. If there is an even number of observations, the median is the average of the two middle values."
   ]
  },
  {
   "cell_type": "code",
   "execution_count": 18,
   "metadata": {},
   "outputs": [
    {
     "data": {
      "text/plain": [
       "[1, 3, 1, 5]"
      ]
     },
     "execution_count": 18,
     "metadata": {},
     "output_type": "execute_result"
    }
   ],
   "source": [
    "# Remember our vector x\n",
    "x"
   ]
  },
  {
   "cell_type": "markdown",
   "metadata": {},
   "source": [
    "We can sort our vector,"
   ]
  },
  {
   "cell_type": "code",
   "execution_count": 19,
   "metadata": {},
   "outputs": [
    {
     "data": {
      "text/plain": [
       "array([1, 1, 3, 5])"
      ]
     },
     "execution_count": 19,
     "metadata": {},
     "output_type": "execute_result"
    }
   ],
   "source": [
    "np.sort(x)"
   ]
  },
  {
   "cell_type": "code",
   "execution_count": 20,
   "metadata": {},
   "outputs": [
    {
     "data": {
      "text/plain": [
       "2.0"
      ]
     },
     "execution_count": 20,
     "metadata": {},
     "output_type": "execute_result"
    }
   ],
   "source": [
    "np.median(x)"
   ]
  },
  {
   "cell_type": "code",
   "execution_count": 21,
   "metadata": {},
   "outputs": [
    {
     "data": {
      "text/plain": [
       "2.0"
      ]
     },
     "execution_count": 21,
     "metadata": {},
     "output_type": "execute_result"
    }
   ],
   "source": [
    "# Using stats\n",
    "x = [1, 3, 1, 5]\n",
    "stats.median(x)"
   ]
  },
  {
   "cell_type": "markdown",
   "metadata": {},
   "source": [
    "### Mode\n",
    "The mode is the value that appears most frequently in a dataset. Lets try to use a histogram to identify the mode of the following vector."
   ]
  },
  {
   "cell_type": "code",
   "execution_count": 22,
   "metadata": {},
   "outputs": [
    {
     "data": {
      "image/png": "[encoded data removed]",
      "text/plain": [
       "<Figure size 640x480 with 1 Axes>"
      ]
     },
     "metadata": {},
     "output_type": "display_data"
    }
   ],
   "source": [
    "x = np.array(\n",
    "            [1,1,2,3,3,4,4,5,6,8,10]\n",
    "            )\n",
    "\n",
    "plt.hist(x, bins=np.arange(1, 11, 1), edgecolor='black', facecolor='C0')\n",
    "plt.show()"
   ]
  },
  {
   "cell_type": "markdown",
   "metadata": {},
   "source": [
    "Note there there can be more than one mode, like in the above example."
   ]
  },
  {
   "cell_type": "code",
   "execution_count": 23,
   "metadata": {},
   "outputs": [
    {
     "data": {
      "text/plain": [
       "1"
      ]
     },
     "execution_count": 23,
     "metadata": {},
     "output_type": "execute_result"
    }
   ],
   "source": [
    "# Using statistics package\n",
    "stats.mode(x) #<--- only returns one value, even if there are multiple modes"
   ]
  },
  {
   "cell_type": "code",
   "execution_count": 24,
   "metadata": {},
   "outputs": [
    {
     "data": {
      "text/plain": [
       "[1, 3, 4]"
      ]
     },
     "execution_count": 24,
     "metadata": {},
     "output_type": "execute_result"
    }
   ],
   "source": [
    "# Using statistics package\n",
    "stats.multimode(x) #<--- returns all modes"
   ]
  },
  {
   "cell_type": "code",
   "execution_count": 25,
   "metadata": {},
   "outputs": [
    {
     "data": {
      "text/plain": [
       "ModeResult(mode=1, count=2)"
      ]
     },
     "execution_count": 25,
     "metadata": {},
     "output_type": "execute_result"
    }
   ],
   "source": [
    "import scipy.stats\n",
    "# Using the scipy.stats package\n",
    "mode_result = scipy.stats.mode(x)\n",
    "mode_result #<--- returns a ModeResult object"
   ]
  },
  {
   "cell_type": "code",
   "execution_count": 26,
   "metadata": {},
   "outputs": [
    {
     "data": {
      "text/plain": [
       "(1, 2)"
      ]
     },
     "execution_count": 26,
     "metadata": {},
     "output_type": "execute_result"
    }
   ],
   "source": [
    "mode_result.mode, mode_result.count #<--- Can access the ModeResult object's values like this.\n",
    "# Note, only one mode is given"
   ]
  },
  {
   "cell_type": "markdown",
   "metadata": {},
   "source": [
    "## 4. Measures of Dispersion\n",
    "\n",
    "### Range\n",
    "The range is the difference between the highest and lowest values in a dataset.\n",
    "\n",
    "$$\n",
    "\\text{Range}(\\bf{x}) = \\text{highest} - \\text{lowest}\n",
    "$$"
   ]
  },
  {
   "cell_type": "code",
   "execution_count": 27,
   "metadata": {},
   "outputs": [
    {
     "data": {
      "text/plain": [
       "(1, 5)"
      ]
     },
     "execution_count": 27,
     "metadata": {},
     "output_type": "execute_result"
    }
   ],
   "source": [
    "# Print the min and max\n",
    "data = [1, 2, 3, 4, 5]\n",
    "min(data), max(data)"
   ]
  },
  {
   "cell_type": "code",
   "execution_count": 28,
   "metadata": {},
   "outputs": [
    {
     "data": {
      "text/plain": [
       "4"
      ]
     },
     "execution_count": 28,
     "metadata": {},
     "output_type": "execute_result"
    }
   ],
   "source": [
    "# Calculate the range\n",
    "range_value = max(data) - min(data)\n",
    "range_value"
   ]
  },
  {
   "cell_type": "markdown",
   "metadata": {},
   "source": [
    "### Variance\n",
    "The variance measures how spread out the values in a dataset are around the mean. To be more specific, the variance is the average of the squared differences between each data point and the mean of the dataset. \n",
    "\n",
    "Before moving on, it's impotant we talk about **populations** vs **samples** when working with statistical data.\n",
    "\n",
    "\n",
    "- **Population**: The entire group of individuals, items, or data points that are of interest to a study. For example, if we're interested in the heights of all adults in a country, the population would consist of the heights of every adult in that country. \n",
    "\n",
    "  Populations can be *finite*, such as the case of the heights of all adults in a country.\n",
    "\n",
    "  Populations can also be *infinite* such as when we discuss **theoretical distributions**\n",
    "\n",
    "  In theoretical probability and statistics, distributions such as the *normal distribution*, *uniform distribution*, *exponential distribution*, etc., are often defined over an infinite range of values. These distributions represent *idealized* mathematical models and are not limited by finite populations.\n",
    "  \n",
    "\n",
    "- **Sample**: A *subset* of the population selected for analysis. Since it's often impractical or impossible to collect data from an entire population, we typically take a sample that represents the population.\n",
    "\n",
    "\\begin{align*}\n",
    "    \\sigma^2 &= \\frac{1}{N} \\sum_{i=1}^{N} (x_i - \\mu)^2\\\\\n",
    "    &= \\frac{1}{N} \\left[ (x_1 - \\mu)^2 + (x_2 - \\mu)^2 + \\dots + (x_N - \\mu)^2 \\right]\n",
    "\\end{align*},\n",
    "\n",
    "Where $\\mu$ is the population mean (the mean of the entire population), and $N$ is the size of the population.\n",
    "\n",
    "While for a **sample** the variance (sample variance) is defined as\n",
    "\n",
    "\\begin{align*}\n",
    "    s^2 &= \\frac{1}{n-1} \\sum_{i=1}^{n} (x_i - \\bar{x})^2\\\\\n",
    "    &= \\frac{1}{n-1} \\left[ (x_1 - \\bar{x})^2 + (x_2 - \\bar{x})^2 + \\dots + (x_n - \\bar{x})^2 \\right]\n",
    "\\end{align*},\n",
    "\n",
    "Where $\\bar{x}$ is the sample mean (the mean of the sample), and $n$ is the size of the sample."
   ]
  },
  {
   "cell_type": "code",
   "execution_count": 29,
   "metadata": {},
   "outputs": [
    {
     "data": {
      "text/plain": [
       "2.3"
      ]
     },
     "execution_count": 29,
     "metadata": {},
     "output_type": "execute_result"
    }
   ],
   "source": [
    "# Find the sample mean\n",
    "x = np.array([1,2,3,4,2,1,4,3,2,1])\n",
    "x.mean()"
   ]
  },
  {
   "cell_type": "code",
   "execution_count": 30,
   "metadata": {},
   "outputs": [
    {
     "data": {
      "text/plain": [
       "array([-1.3, -0.3,  0.7,  1.7, -0.3, -1.3,  1.7,  0.7, -0.3, -1.3])"
      ]
     },
     "execution_count": 30,
     "metadata": {},
     "output_type": "execute_result"
    }
   ],
   "source": [
    "# Subtract the sample mean from each element\n",
    "x-x.mean()"
   ]
  },
  {
   "cell_type": "code",
   "execution_count": 31,
   "metadata": {},
   "outputs": [
    {
     "data": {
      "text/plain": [
       "array([1.69, 0.09, 0.49, 2.89, 0.09, 1.69, 2.89, 0.49, 0.09, 1.69])"
      ]
     },
     "execution_count": 31,
     "metadata": {},
     "output_type": "execute_result"
    }
   ],
   "source": [
    "# Square the differences\n",
    "(x-x.mean())**2"
   ]
  },
  {
   "cell_type": "code",
   "execution_count": 32,
   "metadata": {},
   "outputs": [
    {
     "data": {
      "text/plain": [
       "1.21"
      ]
     },
     "execution_count": 32,
     "metadata": {},
     "output_type": "execute_result"
    }
   ],
   "source": [
    "# Avergae these squared differences\n",
    "((x-x.mean())**2).mean()"
   ]
  },
  {
   "cell_type": "code",
   "execution_count": 33,
   "metadata": {},
   "outputs": [
    {
     "data": {
      "text/plain": [
       "1.21"
      ]
     },
     "execution_count": 33,
     "metadata": {},
     "output_type": "execute_result"
    }
   ],
   "source": [
    "# Or we can simply use numpy\n",
    "np.var(x)"
   ]
  },
  {
   "cell_type": "markdown",
   "metadata": {},
   "source": [
    "By default, `numpy` will calculate the *population variance*. We can change this to a *sample variance* by inserting the `ddof=1` paramter into the `np.var` func\n",
    "\n"
   ]
  },
  {
   "cell_type": "code",
   "execution_count": 34,
   "metadata": {},
   "outputs": [
    {
     "data": {
      "text/plain": [
       "1.3444444444444443"
      ]
     },
     "execution_count": 34,
     "metadata": {},
     "output_type": "execute_result"
    }
   ],
   "source": [
    "np.var(x, ddof=1)"
   ]
  },
  {
   "cell_type": "markdown",
   "metadata": {},
   "source": [
    "We can show the difference between population and sample variances below\n",
    "\n",
    "**A Normal Distribution**"
   ]
  },
  {
   "cell_type": "code",
   "execution_count": 68,
   "metadata": {},
   "outputs": [
    {
     "name": "stdout",
     "output_type": "stream",
     "text": [
      "Population Variance: 3.8969378252486173\n",
      "\n",
      "Sample Variance of Sample: 4.015539534323802\n"
     ]
    },
    {
     "data": {
      "image/png": "[encoded data removed]",
      "text/plain": [
       "<Figure size 640x480 with 1 Axes>"
      ]
     },
     "metadata": {},
     "output_type": "display_data"
    }
   ],
   "source": [
    "np.random.seed(0)  # for reproducibility\n",
    "population_data = np.random.normal(loc=10, scale=2, size=1000)  # mean=10, std=2\n",
    "\n",
    "# print(\"Theoretical Variance:\", 4)\n",
    "\n",
    "# Calculate population variance\n",
    "population_var = np.var(population_data)\n",
    "print(\"Population Variance:\", population_var)\n",
    "print()\n",
    "\n",
    "# Take a random sample from the population\n",
    "sample_data = np.random.choice(population_data, size=10, replace=False)\n",
    "\n",
    "# Calculate the population variance of the sample\n",
    "pop_var_of_sample = np.var(sample_data)\n",
    "\n",
    "# Calculate sample variance\n",
    "sample_var = np.var(sample_data, ddof=1)\n",
    "# print(\"Population Variance of Sample:\", pop_var_of_sample)\n",
    "print(\"Sample Variance of Sample:\", sample_var)\n",
    "\n",
    "plt.hist(population_data, bins=25, histtype='step', density=True, label='Population')\n",
    "plt.hist(sample_data, density=True, alpha=0.5, label='Sample')\n",
    "plt.legend()\n",
    "plt.show()"
   ]
  },
  {
   "cell_type": "markdown",
   "metadata": {},
   "source": [
    "### Standard Deviation\n",
    "Notice that the units of the variance are the *square* of the units of the original data. We can correct for this unit mismatch by taking the square root of the variance.\n",
    "\n",
    "When we do this, we have the **standard deviation**.\n",
    "\n",
    "For a **population** the standard deviation (population standard deviation) is defined as\n",
    "\n",
    "\\begin{align*}\n",
    "    \\sigma &= \\sqrt{\\sigma^2}\\\\\n",
    "    &= \\sqrt{\\frac{1}{N} \\sum_{i=1}^{N} (x_i - \\mu)^2}\\\\\n",
    "    &= \\sqrt{\\frac{1}{N} \\left[ (x_1 - \\mu)^2 + (x_2 - \\mu)^2 + \\dots + (x_N - \\mu)^2 \\right]}\n",
    "\\end{align*}\n",
    "\n",
    "Where $\\mu$ is the population mean (the mean of the entire population), and $N$ is the size of the population.\n",
    "\n",
    "While for a **sample** the standard deviation (sample standard deviation) is defined as\n",
    "\n",
    "\\begin{align*}\n",
    "    s &= \\sqrt{s^2}\\\\\n",
    "    &= \\sqrt{\\frac{1}{n-1} \\sum_{i=1}^{n} (x_i - \\bar{x})^2}\\\\\n",
    "    &= \\sqrt{\\frac{1}{n-1} \\left[ (x_1 - \\bar{x})^2 + (x_2 - \\bar{x})^2 + \\dots + (x_n - \\bar{x})^2 \\right]}\n",
    "\\end{align*}\n",
    "\n",
    "Where $\\bar{x}$ is the sample mean (the mean of the sample), and $n$ is the size of the sample.\n",
    "\n",
    "By default, `numpy` calculations the population standard deviation, but you can change this to calculate the sample standard deviation using the `ddof=1` parameter"
   ]
  },
  {
   "cell_type": "code",
   "execution_count": 77,
   "metadata": {},
   "outputs": [
    {
     "data": {
      "image/png": "[encoded data removed]",
      "text/plain": [
       "<Figure size 640x480 with 1 Axes>"
      ]
     },
     "metadata": {},
     "output_type": "display_data"
    }
   ],
   "source": [
    "# Create synthetic data for a normal distribution\n",
    "# The theoretical standard deviation of the distribution should be 2.0, given by the 'scale' paramter\n",
    "data = np.random.normal(loc=0, scale=2, size=1000)\n",
    "\n",
    "plt.hist(data, bins=15)\n",
    "plt.show()"
   ]
  },
  {
   "cell_type": "code",
   "execution_count": 78,
   "metadata": {},
   "outputs": [
    {
     "data": {
      "text/plain": [
       "1.998807642920243"
      ]
     },
     "execution_count": 78,
     "metadata": {},
     "output_type": "execute_result"
    }
   ],
   "source": [
    "np.std(data) #<---- population standard deviation"
   ]
  },
  {
   "cell_type": "code",
   "execution_count": 79,
   "metadata": {},
   "outputs": [
    {
     "data": {
      "text/plain": [
       "1.9998077969197439"
      ]
     },
     "execution_count": 79,
     "metadata": {},
     "output_type": "execute_result"
    }
   ],
   "source": [
    "np.std(data, ddof=1) #<---- sample standard deviation. \n",
    "# Notice the difference is negligible because the data set is so large, n=1000"
   ]
  },
  {
   "cell_type": "markdown",
   "metadata": {},
   "source": [
    "## 5. Position Measures\n",
    "These are statistics that tell us the location of a specific value in a data set with respect to the entire data set.\n",
    "\n",
    "### Percentile\n",
    "\n",
    "A percentile divides the data into 100 equally sized parts. \n",
    "\n",
    "Then the $k$-th percentile tells you at what $k\\%$ of the data are below that value."
   ]
  },
  {
   "cell_type": "code",
   "execution_count": 80,
   "metadata": {},
   "outputs": [
    {
     "data": {
      "image/png": "[encoded data removed]",
      "text/plain": [
       "<Figure size 640x480 with 1 Axes>"
      ]
     },
     "metadata": {},
     "output_type": "display_data"
    }
   ],
   "source": [
    "# Synthetic data from a normal distribution\n",
    "x = np.random.normal(loc=0, scale=2, size=1000)\n",
    "\n",
    "plt.hist(data, bins=15)\n",
    "plt.show()"
   ]
  },
  {
   "cell_type": "markdown",
   "metadata": {},
   "source": [
    "We can use `numpy.quantile(x, q)` to calculate \"quantiles\", which is just a more general way of saying \"percentile\".\n",
    "\n",
    "q is the percent value (between 0 and 1) that we want to calcualte the \"quantile\" or \"percentile\" for.\n",
    "\n",
    "The 0-quantile is the minimum value of the data set, because 0% of the existing data is less than this, i.e., no data is below the minimum value by definition."
   ]
  },
  {
   "cell_type": "code",
   "execution_count": 40,
   "metadata": {},
   "outputs": [
    {
     "data": {
      "text/plain": [
       "(-5.184041400808919, -5.184041400808919)"
      ]
     },
     "execution_count": 40,
     "metadata": {},
     "output_type": "execute_result"
    }
   ],
   "source": [
    "# Print both 0-quantile and min\n",
    "np.quantile(x, 0), np.min(x)"
   ]
  },
  {
   "cell_type": "markdown",
   "metadata": {},
   "source": [
    "The 1-quantile (or 100-th percentile) is the maximum value of the data set, because 100% of the data is less than this."
   ]
  },
  {
   "cell_type": "code",
   "execution_count": 41,
   "metadata": {},
   "outputs": [
    {
     "data": {
      "text/plain": [
       "(5.792261101014201, 5.792261101014201)"
      ]
     },
     "execution_count": 41,
     "metadata": {},
     "output_type": "execute_result"
    }
   ],
   "source": [
    "# Print both 1-quantile and max\n",
    "np.quantile(x, 1), np.max(x)"
   ]
  },
  {
   "cell_type": "markdown",
   "metadata": {},
   "source": [
    "And we can check the quantile for any number between 0 and 1, e.g. the 30-percentile is the value for which 30% of the data is less than this value."
   ]
  },
  {
   "cell_type": "code",
   "execution_count": 42,
   "metadata": {},
   "outputs": [
    {
     "data": {
      "text/plain": [
       "-1.0692418042359133"
      ]
     },
     "execution_count": 42,
     "metadata": {},
     "output_type": "execute_result"
    }
   ],
   "source": [
    "np.quantile(x, 0.3)"
   ]
  },
  {
   "cell_type": "markdown",
   "metadata": {},
   "source": [
    "We can visual this,"
   ]
  },
  {
   "cell_type": "code",
   "execution_count": 87,
   "metadata": {},
   "outputs": [
    {
     "data": {
      "image/png": "[encoded data removed]",
      "text/plain": [
       "<Figure size 640x480 with 1 Axes>"
      ]
     },
     "metadata": {},
     "output_type": "display_data"
    }
   ],
   "source": [
    "# Calculate the kth percentile\n",
    "k_quantile = np.quantile(data, 0.3)\n",
    "\n",
    "# Plot the histogram\n",
    "plt.hist(data, bins=15)\n",
    "\n",
    "# Add a vertical red line at the kth percentile\n",
    "plt.axvline(x=k_quantile, color='red', linestyle='--')\n",
    "\n",
    "plt.xlabel('Value')\n",
    "plt.ylabel('Frequency')\n",
    "plt.title('Histogram with 30th Percentile Line')\n",
    "plt.show()"
   ]
  },
  {
   "cell_type": "markdown",
   "metadata": {},
   "source": [
    "If we divide the data set into four equally sized parts, then we call them \"quartile\""
   ]
  },
  {
   "cell_type": "code",
   "execution_count": 44,
   "metadata": {},
   "outputs": [
    {
     "name": "stdout",
     "output_type": "stream",
     "text": [
      "0 -5.184\n",
      "0.25 -1.312\n",
      "0.5 0.125\n",
      "0.75 1.306\n",
      "1.0 5.792\n"
     ]
    }
   ],
   "source": [
    "for quantile_level in [0, 0.25, 0.5, 0.75, 1.0]:\n",
    "    print(quantile_level, round(np.quantile(x, quantile_level), 3))"
   ]
  },
  {
   "cell_type": "markdown",
   "metadata": {},
   "source": [
    "These are the quantiles we see in a box plot."
   ]
  },
  {
   "cell_type": "code",
   "execution_count": 45,
   "metadata": {},
   "outputs": [
    {
     "data": {
      "image/png": "[encoded data removed]",
      "text/plain": [
       "<Figure size 640x480 with 1 Axes>"
      ]
     },
     "metadata": {},
     "output_type": "display_data"
    }
   ],
   "source": [
    "# Create a box plot\n",
    "plt.boxplot(data)\n",
    "\n",
    "plt.xlabel('Data')\n",
    "plt.ylabel('Values')\n",
    "plt.title('Box Plot of Sample Data')\n",
    "plt.show()"
   ]
  },
  {
   "cell_type": "markdown",
   "metadata": {},
   "source": [
    "## 6. Shape Measures\n",
    "\n",
    "### Skewness\n",
    "This measures the asymmetry of a dataset around its mean. We can calculate it using the `scipy.stats.skew()` function.\n",
    "\n",
    "<p align=\"center\">\n",
    "  <img src=\"imgs/skewness.png\" alt=\"Alt text\" width=\"1000\" height=\"400\">\n",
    "</p>"
   ]
  },
  {
   "cell_type": "markdown",
   "metadata": {},
   "source": [
    "A positive skewness indicates that most of the data are on the left and there are a few very high values on the right, as shown below"
   ]
  },
  {
   "cell_type": "code",
   "execution_count": 46,
   "metadata": {},
   "outputs": [
    {
     "name": "stdout",
     "output_type": "stream",
     "text": [
      "Skewness: 1.94\n"
     ]
    },
    {
     "data": {
      "image/png": "[encoded data removed]",
      "text/plain": [
       "<Figure size 640x480 with 1 Axes>"
      ]
     },
     "metadata": {},
     "output_type": "display_data"
    }
   ],
   "source": [
    "# Generate data from an exponential distribution (positively skewed)\n",
    "data = np.random.exponential(scale=1, size=1000)\n",
    "\n",
    "# Calculate skewness\n",
    "skewness = scipy.stats.skew(data)\n",
    "\n",
    "# Plot the histogram of the data\n",
    "plt.hist(data, bins=30, density=True, alpha=0.5)\n",
    "plt.title(\"Histogram of Exponential Distribution\")\n",
    "plt.xlabel(\"Values\")\n",
    "plt.ylabel(\"Frequency\")\n",
    "\n",
    "print(f'Skewness: {skewness:.2f}')\n",
    "\n",
    "plt.show()"
   ]
  },
  {
   "cell_type": "markdown",
   "metadata": {},
   "source": [
    "A negative skewness indicates that there are more unusual low values. "
   ]
  },
  {
   "cell_type": "code",
   "execution_count": 47,
   "metadata": {},
   "outputs": [
    {
     "name": "stdout",
     "output_type": "stream",
     "text": [
      "Skewness: -2.04\n"
     ]
    },
    {
     "data": {
      "image/png": "[encoded data removed]",
      "text/plain": [
       "<Figure size 640x480 with 1 Axes>"
      ]
     },
     "metadata": {},
     "output_type": "display_data"
    }
   ],
   "source": [
    "# Generate data from an exponential distribution (positively skewed)\n",
    "data = -np.random.exponential(scale=1, size=1000)+8\n",
    "\n",
    "# Calculate skewness\n",
    "skewness = scipy.stats.skew(data)\n",
    "\n",
    "# Plot the histogram of the data\n",
    "plt.hist(data, bins=30, density=True, alpha=0.5)\n",
    "plt.title(\"Histogram of Exponential Distribution\")\n",
    "plt.xlabel(\"Values\")\n",
    "plt.ylabel(\"Frequency\")\n",
    "\n",
    "print(f'Skewness: {skewness:.2f}')\n",
    "\n",
    "plt.show()"
   ]
  },
  {
   "cell_type": "markdown",
   "metadata": {},
   "source": [
    "If it is close to zero it suggests that the data are quite symmetrical."
   ]
  },
  {
   "cell_type": "code",
   "execution_count": 48,
   "metadata": {},
   "outputs": [
    {
     "name": "stdout",
     "output_type": "stream",
     "text": [
      "Skewness: -0.04\n"
     ]
    },
    {
     "data": {
      "image/png": "[encoded data removed]",
      "text/plain": [
       "<Figure size 640x480 with 1 Axes>"
      ]
     },
     "metadata": {},
     "output_type": "display_data"
    }
   ],
   "source": [
    "data = np.random.normal(loc=0, scale=2, size=1000)\n",
    "\n",
    "# Calculate skewness\n",
    "skewness = scipy.stats.skew(data)\n",
    "\n",
    "# Plot the histogram of the data\n",
    "plt.hist(data, bins=30, density=True, alpha=0.5)\n",
    "plt.title(\"Histogram of Exponential Distribution\")\n",
    "plt.xlabel(\"Values\")\n",
    "plt.ylabel(\"Frequency\")\n",
    "\n",
    "print(f'Skewness: {skewness:.2f}')\n",
    "\n",
    "plt.show()"
   ]
  },
  {
   "cell_type": "markdown",
   "metadata": {},
   "source": [
    "### Kurtosis\n",
    "Kurtosis measures the \"tailedness\" of the distribution of values. In other words, it measures the concentration of data around the mean.\n",
    "\n",
    "A positive kurtosis indicates a sharper peak compared to the normal distribution. \n",
    "\n",
    "A negative kurtosis indicates a flatter peak and lighter tails. \n",
    "\n",
    "A kurtosis close to zero suggests a shape similar to that of the normal distribution.\n",
    "\n",
    "\n",
    "<p align=\"center\">\n",
    "  <img src=\"imgs/kurtosis.png\" alt=\"Alt text\" width=\"400\" height=\"300\">\n",
    "</p>"
   ]
  },
  {
   "cell_type": "markdown",
   "metadata": {},
   "source": [
    "## 7. Distributions\n",
    "In progress"
   ]
  }
 ],
 "metadata": {
  "kernelspec": {
   "display_name": "Python 3",
   "language": "python",
   "name": "python3"
  },
  "language_info": {
   "codemirror_mode": {
    "name": "ipython",
    "version": 3
   },
   "file_extension": ".py",
   "mimetype": "text/x-python",
   "name": "python",
   "nbconvert_exporter": "python",
   "pygments_lexer": "ipython3",
   "version": "3.10.13"
  }
 },
 "nbformat": 4,
 "nbformat_minor": 2
}
